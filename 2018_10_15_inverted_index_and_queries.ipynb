{
 "cells": [
  {
   "cell_type": "markdown",
   "metadata": {},
   "source": [
    "# Revision of the whole indexing process"
   ]
  },
  {
   "cell_type": "markdown",
   "metadata": {},
   "source": [
    "![Sort-Based-Index](img/indexing-steps.png)"
   ]
  },
  {
   "cell_type": "markdown",
   "metadata": {},
   "source": [
    "# Preprocessing:"
   ]
  },
  {
   "cell_type": "code",
   "execution_count": 1,
   "metadata": {},
   "outputs": [],
   "source": [
    "from nltk.tokenize import sent_tokenize, TweetTokenizer\n",
    "from string import punctuation\n",
    "tokenizer = TweetTokenizer()\n",
    "\n",
    "def preprocess_document(content):\n",
    "    \"\"\"\n",
    "    Returns a list of tokens for a document's content. \n",
    "    Tokens should not contain punctuation and should be lower-cased.\n",
    "    \"\"\"\n",
    "    return [\n",
    "        token.lower()\n",
    "        for sentence in sent_tokenize(content)\n",
    "        for token in tokenizer.tokenize(sentence)\n",
    "        if token not in punctuation\n",
    "    ]"
   ]
  },
  {
   "cell_type": "code",
   "execution_count": 2,
   "metadata": {},
   "outputs": [
    {
     "data": {
      "text/plain": [
       "['path',\n",
       " 'cantaloupe.srv.cs.cmu.edu',\n",
       " 'crabapple.srv.cs.cmu.edu',\n",
       " 'fs7.ece.cmu.edu',\n",
       " 'europa.eng.gtefsd.com',\n",
       " 'howland.reston.ans.net',\n",
       " 'wupost',\n",
       " 'uunet',\n",
       " 'caen',\n",
       " 'rphroy']"
      ]
     },
     "execution_count": 2,
     "metadata": {},
     "output_type": "execute_result"
    }
   ],
   "source": [
    "preprocess_document(open('data/mini_newsgroups/rec.autos/101629').read())[:10]"
   ]
  },
  {
   "cell_type": "markdown",
   "metadata": {},
   "source": [
    "# Extract Pairs of (token, document_id) tuples \n",
    "These will eventually end up sorted by document_id."
   ]
  },
  {
   "cell_type": "code",
   "execution_count": 3,
   "metadata": {},
   "outputs": [],
   "source": [
    "from os import scandir # can be used for easier iteration of documents in a folder\n",
    "# can check is_file() on the objects returned by scan_dir \n",
    "# contain whole document path, so no need to join with the directory\n",
    "\n",
    "def get_token_doc_id_pairs(category_dir):\n",
    "    \"\"\"\n",
    "    Iteratively goes through the documents in the category_dir and constructs/returns:\n",
    "    1. A list of (token, doc_id) tuples\n",
    "    2. A dictionary of doc_id:doc_name\n",
    "    \"\"\"\n",
    "    token_docid = []\n",
    "    doc_ids = {}\n",
    "\n",
    "    for i, document in enumerate(scandir(category_dir)):\n",
    "        if document.is_file():\n",
    "            doc_ids[i] = document\n",
    "            with open(document) as out_fp:\n",
    "                document_tokens = preprocess_document(out_fp.read())\n",
    "                token_docid += [(token, i) for token in document_tokens]\n",
    "    return token_docid, doc_ids"
   ]
  },
  {
   "cell_type": "code",
   "execution_count": 4,
   "metadata": {},
   "outputs": [
    {
     "name": "stdout",
     "output_type": "stream",
     "text": [
      "<DirEntry '101577'>\n"
     ]
    },
    {
     "data": {
      "text/plain": [
       "[('newsgroups', 0),\n",
       " ('rec.autos', 0),\n",
       " ('path', 0),\n",
       " ('cantaloupe.srv.cs.cmu.edu', 0),\n",
       " ('magnesium.club.cc.cmu.edu', 0),\n",
       " ('news.sei.cmu.edu', 0),\n",
       " ('fs7.ece.cmu.edu', 0),\n",
       " ('europa.eng.gtefsd.com', 0),\n",
       " ('howland.reston.ans.net', 0),\n",
       " ('ux1.cso.uiuc.edu', 0)]"
      ]
     },
     "execution_count": 4,
     "metadata": {},
     "output_type": "execute_result"
    }
   ],
   "source": [
    "token_docid, doc_ids = get_token_doc_id_pairs('data/mini_newsgroups/rec.autos/')\n",
    "print(doc_ids[2])\n",
    "token_docid[:10]"
   ]
  },
  {
   "cell_type": "markdown",
   "metadata": {},
   "source": [
    "# Sort by token"
   ]
  },
  {
   "cell_type": "code",
   "execution_count": 5,
   "metadata": {},
   "outputs": [
    {
     "data": {
      "text/plain": [
       "[('zaphod.mps.ohio-state.edu', 97),\n",
       " ('zaphod.mps.ohio-state.edu', 98),\n",
       " ('zaphod.mps.ohio-state.edu', 99),\n",
       " ('zauberer', 47),\n",
       " ('zeolite', 49),\n",
       " ('zip', 77),\n",
       " ('zip', 77),\n",
       " ('zx', 86),\n",
       " ('zx-r', 57),\n",
       " (\"|'8\", 70)]"
      ]
     },
     "execution_count": 5,
     "metadata": {},
     "output_type": "execute_result"
    }
   ],
   "source": [
    "from operator import itemgetter\n",
    "sorted_token_docid = sorted(token_docid, key=itemgetter(0))\n",
    "sorted_token_docid[-10:]"
   ]
  },
  {
   "cell_type": "markdown",
   "metadata": {},
   "source": [
    "# Merge token occurrences in a single document -> (token, doc_id, term_freq) tuples"
   ]
  },
  {
   "cell_type": "code",
   "execution_count": 16,
   "metadata": {},
   "outputs": [],
   "source": [
    "from collections import Counter\n",
    "\n",
    "def merge_token_in_doc(sorted_token_docid):\n",
    "    \"\"\"\n",
    "    Returns a list of (token, doc_id, term_freq) tuples from a sorted list of (token, doc_id) list, \n",
    "    where if a token appears n times in a doc_id, we merge it in a tuple (toke, doc_id, n).\n",
    "    \"\"\"\n",
    "    counter = Counter(sorted_token_docid)\n",
    "    return [item + (occurances,) for item, occurances in counter.items()]"
   ]
  },
  {
   "cell_type": "code",
   "execution_count": 17,
   "metadata": {},
   "outputs": [
    {
     "data": {
      "text/plain": [
       "[('zaphod.mps.ohio-state.edu', 96, 1),\n",
       " ('zaphod.mps.ohio-state.edu', 97, 1),\n",
       " ('zaphod.mps.ohio-state.edu', 98, 1),\n",
       " ('zaphod.mps.ohio-state.edu', 99, 1),\n",
       " ('zauberer', 47, 1),\n",
       " ('zeolite', 49, 1),\n",
       " ('zip', 77, 2),\n",
       " ('zx', 86, 1),\n",
       " ('zx-r', 57, 1),\n",
       " (\"|'8\", 70, 1)]"
      ]
     },
     "execution_count": 17,
     "metadata": {},
     "output_type": "execute_result"
    }
   ],
   "source": [
    "merged_tokens_in_doc = merge_token_in_doc(sorted_token_docid)\n",
    "merged_tokens_in_doc[-10:]"
   ]
  },
  {
   "cell_type": "markdown",
   "metadata": {},
   "source": [
    "# Split into Dictionary and Postings (usually linked lists for each word)"
   ]
  },
  {
   "cell_type": "code",
   "execution_count": 21,
   "metadata": {},
   "outputs": [],
   "source": [
    "from collections import defaultdict\n",
    "dictionary = defaultdict(lambda: (0, 0)) # term: doc_freq, tot freq\n",
    "postings = defaultdict(list) # term: doc_ids, doc_freq\n",
    "\n",
    "for token, doc_id, doc_freq in merged_tokens_in_doc:\n",
    "    dictionary[token] = (dictionary[token][0]+1, dictionary[token][1]+doc_freq)\n",
    "    postings[token].append((doc_id, doc_freq)) # postings are usually linked lists"
   ]
  },
  {
   "cell_type": "code",
   "execution_count": 22,
   "metadata": {},
   "outputs": [
    {
     "data": {
      "text/plain": [
       "((1, 2), (51, 52))"
      ]
     },
     "execution_count": 22,
     "metadata": {},
     "output_type": "execute_result"
    }
   ],
   "source": [
    "dictionary['zip'], dictionary['zaphod.mps.ohio-state.edu']"
   ]
  },
  {
   "cell_type": "code",
   "execution_count": 23,
   "metadata": {
    "scrolled": true
   },
   "outputs": [
    {
     "data": {
      "text/plain": [
       "([(77, 2)],\n",
       " [(1, 1),\n",
       "  (3, 1),\n",
       "  (4, 1),\n",
       "  (5, 1),\n",
       "  (8, 1),\n",
       "  (10, 1),\n",
       "  (12, 1),\n",
       "  (13, 1),\n",
       "  (16, 1),\n",
       "  (17, 1),\n",
       "  (18, 1),\n",
       "  (19, 1),\n",
       "  (22, 1),\n",
       "  (25, 1),\n",
       "  (27, 1),\n",
       "  (28, 1),\n",
       "  (31, 1),\n",
       "  (32, 1),\n",
       "  (34, 1),\n",
       "  (35, 1),\n",
       "  (36, 1),\n",
       "  (37, 1),\n",
       "  (38, 1),\n",
       "  (41, 1),\n",
       "  (42, 2),\n",
       "  (43, 1),\n",
       "  (45, 1),\n",
       "  (47, 1),\n",
       "  (53, 1),\n",
       "  (54, 1),\n",
       "  (57, 1),\n",
       "  (59, 1),\n",
       "  (61, 1),\n",
       "  (62, 1),\n",
       "  (64, 1),\n",
       "  (65, 1),\n",
       "  (66, 1),\n",
       "  (68, 1),\n",
       "  (70, 1),\n",
       "  (72, 1),\n",
       "  (73, 1),\n",
       "  (82, 1),\n",
       "  (83, 1),\n",
       "  (86, 1),\n",
       "  (87, 1),\n",
       "  (89, 1),\n",
       "  (92, 1),\n",
       "  (96, 1),\n",
       "  (97, 1),\n",
       "  (98, 1),\n",
       "  (99, 1)])"
      ]
     },
     "execution_count": 23,
     "metadata": {},
     "output_type": "execute_result"
    }
   ],
   "source": [
    "postings['zip'], postings['zaphod.mps.ohio-state.edu']"
   ]
  },
  {
   "cell_type": "markdown",
   "metadata": {},
   "source": [
    "# Boolean Queries in the index"
   ]
  },
  {
   "cell_type": "markdown",
   "metadata": {},
   "source": [
    "## AND query: we want to find documents which contain both 'living' and 'dead' in them.\n",
    "\n",
    "We use a merging algorithm for conjunction queries, which simultaneously traverses the postings of the given words.\n",
    "\n",
    "- Living: 1 -> 2 -> 5 -> 17 -> 30 -> 31 -> 44 -> 45 -> 47\n",
    "- Dead: 5 -> 17 -> 44\n",
    "- Intersection: 5 -> 17 -> 44\n",
    "\n",
    "It takes __linear time__ over the number of documents the two words appear in. <br/>\n",
    "It is important to have postings for each word __sorted by document id__."
   ]
  },
  {
   "cell_type": "code",
   "execution_count": 11,
   "metadata": {},
   "outputs": [],
   "source": [
    "def and_query(postings, word1, word2):\n",
    "    \"\"\"\n",
    "    merging postings lists of two words\n",
    "    \"\"\"\n",
    "    postings_word1 = postings[word1]\n",
    "    postings_word2 = postings[word2]\n",
    "    \n",
    "    documents_results = []\n",
    "    \n",
    "    postings_ind1, postings_ind2 = 0, 0\n",
    "    while postings_ind1 < len(postings_word1) and postings_ind2 < len(postings_word2):\n",
    "        doc_id1, doc_id2 = postings_word1[postings_ind1][0], postings_word2[postings_ind2][0]\n",
    "        if doc_id1 == doc_id2:\n",
    "            documents_results.append(postings_word1[postings_ind1][0])\n",
    "            postings_ind1 += 1\n",
    "            postings_ind2 += 1\n",
    "        elif doc_id1 < doc_id2:\n",
    "            postings_ind1 += 1\n",
    "        elif doc_id1 > doc_id2:\n",
    "            postings_ind2 += 1\n",
    "    return documents_results"
   ]
  },
  {
   "cell_type": "code",
   "execution_count": 12,
   "metadata": {},
   "outputs": [
    {
     "name": "stdout",
     "output_type": "stream",
     "text": [
      "-- \n",
      "\n",
      "===============================================================================\n",
      "Jerry L. Storrs, System/Network Manager || ...\"Why do you look for the living\n",
      "Dept of Chemical Engineering, NCSU      || among the dead?  He is not here, \n",
      "   storrs@che.ncsu.edu (preferred)      || He is risen!\"\n",
      "   storrs@eos.ncsu.edu                  || ^^^^^^^^^^^       Luke 24:5-6     \n",
      "                          <><           ||  THE LORD IS RISEN INDEED!!      \n",
      "===============================================================================\n",
      "Any statement made is the explicit belief of the writer and not the employer.\n"
     ]
    }
   ],
   "source": [
    "!tail -10 data/mini_newsgroups/rec.autos//102983"
   ]
  },
  {
   "cell_type": "code",
   "execution_count": 13,
   "metadata": {},
   "outputs": [
    {
     "data": {
      "text/plain": [
       "<DirEntry '102983'>"
      ]
     },
     "execution_count": 13,
     "metadata": {},
     "output_type": "execute_result"
    }
   ],
   "source": [
    "doc_id = and_query(postings, 'living', 'dead')\n",
    "doc_ids[doc_id[0]]"
   ]
  },
  {
   "cell_type": "markdown",
   "metadata": {},
   "source": [
    "## Questions:\n",
    "\n",
    "- How about if we want to find a document containing N words? \n",
    "- What will be the execution time for queries with NOT/ OR and different combinations?\n",
    "- What are the downsides of boolean queries?"
   ]
  },
  {
   "cell_type": "markdown",
   "metadata": {},
   "source": [
    "## Advanced query features\n",
    "* We can optimize with : processing in order of increasing freq; skip pointers\n",
    "* Proximity\n",
    "* Zones\n",
    "* Phrase queries (bi-word indexes, positional indexes)"
   ]
  }
 ],
 "metadata": {
  "interpreter": {
   "hash": "aee8b7b246df8f9039afb4144a1f6fd8d2ca17a180786b69acc140d282b71a49"
  },
  "kernelspec": {
   "display_name": "Python 3.9.7 64-bit",
   "name": "python3"
  },
  "language_info": {
   "codemirror_mode": {
    "name": "ipython",
    "version": 3
   },
   "file_extension": ".py",
   "mimetype": "text/x-python",
   "name": "python",
   "nbconvert_exporter": "python",
   "pygments_lexer": "ipython3",
   "version": "3.9.7"
  },
  "toc": {
   "base_numbering": 1,
   "nav_menu": {},
   "number_sections": true,
   "sideBar": true,
   "skip_h1_title": false,
   "title_cell": "Table of Contents",
   "title_sidebar": "Contents",
   "toc_cell": false,
   "toc_position": {},
   "toc_section_display": true,
   "toc_window_display": false
  }
 },
 "nbformat": 4,
 "nbformat_minor": 2
}
